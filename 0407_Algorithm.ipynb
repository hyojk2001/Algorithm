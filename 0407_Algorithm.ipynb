{
  "nbformat": 4,
  "nbformat_minor": 0,
  "metadata": {
    "colab": {
      "name": "0407_Algorithm.ipynb",
      "provenance": [],
      "authorship_tag": "ABX9TyPCQkTtn3LHTa1CeND0iHqq",
      "include_colab_link": true
    },
    "kernelspec": {
      "name": "python3",
      "display_name": "Python 3"
    },
    "language_info": {
      "name": "python"
    }
  },
  "cells": [
    {
      "cell_type": "markdown",
      "metadata": {
        "id": "view-in-github",
        "colab_type": "text"
      },
      "source": [
        "<a href=\"https://colab.research.google.com/github/hyojk2001/Algorithm/blob/main/0407_Algorithm.ipynb\" target=\"_parent\"><img src=\"https://colab.research.google.com/assets/colab-badge.svg\" alt=\"Open In Colab\"/></a>"
      ]
    },
    {
      "cell_type": "code",
      "metadata": {
        "id": "NSjt920remv-",
        "outputId": "d5d85ef3-90a4-415b-8e94-f898394f4733",
        "colab": {
          "base_uri": "https://localhost:8080/"
        }
      },
      "source": [
        "def Lsearch(x,y):\n",
        "  for i in range(len(x)):\n",
        "    if x[i] == y:\n",
        "      return '\"%d번째의 요소가 일치\" % i'\n",
        "    return \"찾지 못했습니다\"\n",
        "\n",
        "x = [4,2,3,5,1]\n",
        "y = 5\n",
        "i = Lsearch(x,y)\n",
        "print(i)"
      ],
      "execution_count": 1,
      "outputs": [
        {
          "output_type": "stream",
          "text": [
            "찾지 못했습니다\n"
          ],
          "name": "stdout"
        }
      ]
    },
    {
      "cell_type": "code",
      "metadata": {
        "id": "LYJDjuchenJ0"
      },
      "source": [
        ""
      ],
      "execution_count": null,
      "outputs": []
    }
  ]
}